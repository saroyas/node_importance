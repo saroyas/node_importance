{
 "cells": [
  {
   "cell_type": "code",
   "execution_count": 1,
   "metadata": {
    "collapsed": true
   },
   "outputs": [],
   "source": [
    "import networkx as nx\n",
    "from operator import add, sub\n",
    "import numpy as np\n",
    "import matplotlib.pyplot as plt\n",
    "from def_space_spring import *\n",
    "import random\n",
    "import copy\n",
    "import python.tools as tl"
   ]
  },
  {
   "cell_type": "code",
   "execution_count": 2,
   "outputs": [],
   "source": [
    "reverse = False"
   ],
   "metadata": {
    "collapsed": false,
    "pycharm": {
     "name": "#%%\n"
    }
   }
  },
  {
   "cell_type": "code",
   "execution_count": 3,
   "outputs": [],
   "source": [
    "#DG = nx.DiGraph()\n",
    "#DG.add_weighted_edges_from([(0, 2, 1), (1, 2, 1), (1, 3, 2), (3, 4, 1)])\n",
    "#nx.draw(DG, with_labels=True)\n",
    "\n",
    "#network='US_CS'\n",
    "#inadjacency='data/'+network+'_adjacency.dat'\n",
    "#DG=tl.build_graph_from_adjacency(inadjacency)\n",
    "\n",
    "#DG = nx.fast_gnp_random_graph(100, 0.3, directed=True)\n",
    "#for edge in DG.edges():\n",
    "#    DG[edge[0]][edge[1]]['weight'] = random.randint(0,10)\n",
    "#nx.draw(DG, with_labels=True)\n",
    "\n",
    "#DG = nx.read_edgelist(\"data/email-Eu-core.txt\",create_using=nx.DiGraph(), nodetype = int)\n",
    "#DG = nx.read_edgelist(\"data/ownership.txt\",create_using=nx.DiGraph(), nodetype = int)\n",
    "DG = nx.read_edgelist(\"data/Wiki-Vote.txt\",create_using=nx.DiGraph(), nodetype = int)\n",
    "for edge in DG.edges():\n",
    "    DG[edge[0]][edge[1]]['weight'] = 1\n",
    "\n",
    "#multi_DG = nx.read_gml(\"data/polblogs.gml\")\n",
    "#multi_DG = nx.read_gml(\"data/celegansneural.gml\")\n",
    "#multi_DG = nx.read_graphml(\"data/drosophila_medulla_1.graphml\")\n",
    "#DG = nx.DiGraph()\n",
    "#for u,v,data in multi_DG.edges(data=True):\n",
    "#    w = data['weight'] if 'weight' in data else 1.0\n",
    "#    if DG.has_edge(u,v):\n",
    "#        DG[u][v]['weight'] += w\n",
    "#    else:\n",
    "#        DG.add_edge(u, v, weight=w)\n"
   ],
   "metadata": {
    "collapsed": false,
    "pycharm": {
     "name": "#%%\n"
    }
   }
  },
  {
   "cell_type": "code",
   "execution_count": 4,
   "outputs": [
    {
     "data": {
      "text/plain": "7115"
     },
     "execution_count": 4,
     "metadata": {},
     "output_type": "execute_result"
    }
   ],
   "source": [
    "DG.number_of_nodes()"
   ],
   "metadata": {
    "collapsed": false,
    "pycharm": {
     "name": "#%%\n"
    }
   }
  },
  {
   "cell_type": "code",
   "execution_count": 5,
   "outputs": [],
   "source": [
    "mapping = dict(zip(DG, range(0, DG.number_of_nodes())))\n",
    "relabelled_DG = nx.relabel_nodes(DG, mapping)"
   ],
   "metadata": {
    "collapsed": false,
    "pycharm": {
     "name": "#%%\n"
    }
   }
  },
  {
   "cell_type": "code",
   "execution_count": 6,
   "outputs": [],
   "source": [
    "if reverse == True:\n",
    "    relabelled_DG = relabelled_DG.reverse()"
   ],
   "metadata": {
    "collapsed": false,
    "pycharm": {
     "name": "#%%\n"
    }
   }
  },
  {
   "cell_type": "code",
   "execution_count": 7,
   "outputs": [],
   "source": [
    "reduced_graph, removed_edges = reduce_graph(relabelled_DG, perc_edge_del=0.3)"
   ],
   "metadata": {
    "collapsed": false,
    "pycharm": {
     "name": "#%%\n"
    }
   }
  },
  {
   "cell_type": "code",
   "execution_count": 8,
   "outputs": [],
   "source": [
    "graph_spring_ranks = get_spring_ranks(reduced_graph, with_rounding = True)"
   ],
   "metadata": {
    "collapsed": false,
    "pycharm": {
     "name": "#%%\n"
    }
   }
  },
  {
   "cell_type": "code",
   "execution_count": 9,
   "outputs": [
    {
     "name": "stdout",
     "output_type": "stream",
     "text": [
      "Currently finished iteration  50\n",
      "Change in this iteration 0.0\n",
      "Currently finished iteration  100\n",
      "Change in this iteration 0.0\n",
      "stopped at iteration: 101\n"
     ]
    }
   ],
   "source": [
    "graph_space_ranks = get_space_ranks(reduced_graph, with_rounding = True, min_iter=100, print_rate=50, max_iter=1000, cut_off_change=0.1)"
   ],
   "metadata": {
    "collapsed": false,
    "pycharm": {
     "name": "#%%\n"
    }
   }
  },
  {
   "cell_type": "code",
   "execution_count": 10,
   "outputs": [],
   "source": [
    "graph_page_rank_dict = nx.pagerank(reduced_graph, alpha=1, max_iter=1000)"
   ],
   "metadata": {
    "collapsed": false,
    "pycharm": {
     "name": "#%%\n"
    }
   }
  },
  {
   "cell_type": "code",
   "execution_count": 11,
   "outputs": [],
   "source": [
    "graph_eigen_rank_dict = nx.eigenvector_centrality(reduced_graph, max_iter=1000)"
   ],
   "metadata": {
    "collapsed": false,
    "pycharm": {
     "name": "#%%\n"
    }
   }
  },
  {
   "cell_type": "code",
   "execution_count": 12,
   "outputs": [
    {
     "name": "stdout",
     "output_type": "stream",
     "text": [
      "Currently finished iteration  50\n",
      "Change in this iteration 0.0\n",
      "Currently finished iteration  100\n",
      "Change in this iteration 0.0\n",
      "stopped at iteration: 101\n"
     ]
    }
   ],
   "source": [
    "graph_self_page_rank_dict = get_page_space_ranks(reduced_graph, with_rounding = True, min_iter=100, print_rate=50, max_iter=1000, cut_off_change=0.1)"
   ],
   "metadata": {
    "collapsed": false,
    "pycharm": {
     "name": "#%%\n"
    }
   }
  },
  {
   "cell_type": "code",
   "execution_count": 14,
   "outputs": [
    {
     "name": "stdout",
     "output_type": "stream",
     "text": [
      "Normal results:\n",
      "Space rank performance: 0.888238\n",
      "Spring rank performance: 0.910262\n",
      "Page rank performance: 0.274836\n",
      "Eigen rank performance: 0.260309\n",
      "Space page weird rank performance: 0.753046\n"
     ]
    }
   ],
   "source": [
    "if reverse == False:\n",
    "    print(\"Normal results:\")\n",
    "    print(\"Space rank performance:\", perc_correct(removed_edges, graph_space_ranks))\n",
    "    print(\"Spring rank performance:\", perc_correct(removed_edges, graph_spring_ranks))\n",
    "    print(\"Page rank performance:\", perc_correct(removed_edges, graph_page_rank_dict))\n",
    "    print(\"Eigen rank performance:\", perc_correct(removed_edges, graph_eigen_rank_dict))\n",
    "    print(\"Space page weird rank performance:\", perc_correct(removed_edges, graph_self_page_rank_dict))\n"
   ],
   "metadata": {
    "collapsed": false,
    "pycharm": {
     "name": "#%%\n"
    }
   }
  },
  {
   "cell_type": "code",
   "execution_count": 12,
   "outputs": [
    {
     "name": "stdout",
     "output_type": "stream",
     "text": [
      "Reverse results:\n",
      "Space rank performance: 0.882381\n",
      "Spring rank performance: 0.912371\n",
      "Page rank performance: 0.235239\n",
      "Eigen rank performance: 0.234302\n"
     ]
    }
   ],
   "source": [
    "if reverse == True:\n",
    "    print(\"Reverse results:\")\n",
    "    print(\"Space rank performance:\", perc_correct(removed_edges, graph_space_ranks))\n",
    "    print(\"Spring rank performance:\", perc_correct(removed_edges, graph_spring_ranks))\n",
    "    print(\"Page rank performance:\", perc_correct(removed_edges, graph_page_rank_dict))\n",
    "    print(\"Eigen rank performance:\", perc_correct(removed_edges, graph_eigen_rank_dict))"
   ],
   "metadata": {
    "collapsed": false,
    "pycharm": {
     "name": "#%%\n"
    }
   }
  },
  {
   "cell_type": "code",
   "execution_count": null,
   "outputs": [],
   "source": [],
   "metadata": {
    "collapsed": false,
    "pycharm": {
     "name": "#%%\n"
    }
   }
  }
 ],
 "metadata": {
  "kernelspec": {
   "display_name": "Python 3",
   "language": "python",
   "name": "python3"
  },
  "language_info": {
   "codemirror_mode": {
    "name": "ipython",
    "version": 2
   },
   "file_extension": ".py",
   "mimetype": "text/x-python",
   "name": "python",
   "nbconvert_exporter": "python",
   "pygments_lexer": "ipython2",
   "version": "2.7.6"
  }
 },
 "nbformat": 4,
 "nbformat_minor": 0
}