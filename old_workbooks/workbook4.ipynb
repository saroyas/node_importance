{
 "cells": [
  {
   "cell_type": "code",
   "execution_count": 1,
   "metadata": {
    "collapsed": true
   },
   "outputs": [],
   "source": [
    "import networkx as nx\n",
    "from operator import add, sub\n",
    "import numpy as np\n",
    "import matplotlib.pyplot as plt\n",
    "from python.SpringRank import SpringRank\n",
    "import python.tools as tl\n",
    "\n",
    "def get_space_ranks(graph, self_edge_weight = 1):\n",
    "    #intialise dictionary\n",
    "    node_page = {}\n",
    "    for node in list(graph.nodes()):\n",
    "        node_page[node] = [0.0] * graph.number_of_nodes()\n",
    "\n",
    "    #calculating what each nodes page will look like\n",
    "    i = 0\n",
    "    while True:\n",
    "        i = i+1\n",
    "        change = 0\n",
    "        for node in list(graph.nodes()):\n",
    "            norm_const = 1/(graph.in_degree(node, weight='weight')+self_edge_weight)\n",
    "            new_page_draft = [0.0] * graph.number_of_nodes()\n",
    "            new_page_draft[node] = norm_const\n",
    "            for superior in list(graph.predecessors(node)):\n",
    "                edge_weight = graph.get_edge_data(superior, node)[\"weight\"]\n",
    "                new_page_draft = list(map(add, new_page_draft, [edge_weight*(norm_const)*x for x in node_page[superior]]))\n",
    "\n",
    "            change = change + sum(list(map(sub, node_page[node], new_page_draft)))\n",
    "            node_page[node] = new_page_draft\n",
    "\n",
    "        if i%100 == 0:\n",
    "            print(\"Currently at iteration \", i)\n",
    "\n",
    "        if abs(change) < 1:\n",
    "            print(\"stopped at iteration:\", i)\n",
    "            break\n",
    "\n",
    "    #now calculating each nodes \"page\" rank values\n",
    "    #output is list with node i's value at position i\n",
    "    ranking = [0.0] * graph.number_of_nodes()\n",
    "    for node in node_page.keys():\n",
    "        ranking = list(map(add, ranking, node_page[node]))\n",
    "\n",
    "    return ranking\n",
    "\n",
    "def get_spring_ranks(graph, alpha=0., l0=1., l1=1.):\n",
    "    nodes = list(graph.nodes())\n",
    "    A = nx.to_scipy_sparse_matrix(graph, dtype=float,nodelist=nodes)\n",
    "    ranking =SpringRank(A,alpha=alpha,l0=l0,l1=l1)\n",
    "    ranking =tl.shift_rank(ranking)"
   ]
  },
  {
   "cell_type": "code",
   "execution_count": null,
   "outputs": [],
   "source": [],
   "metadata": {
    "collapsed": false,
    "pycharm": {
     "name": "#%%\n"
    }
   }
  }
 ],
 "metadata": {
  "kernelspec": {
   "display_name": "Python 3",
   "language": "python",
   "name": "python3"
  },
  "language_info": {
   "codemirror_mode": {
    "name": "ipython",
    "version": 2
   },
   "file_extension": ".py",
   "mimetype": "text/x-python",
   "name": "python",
   "nbconvert_exporter": "python",
   "pygments_lexer": "ipython2",
   "version": "2.7.6"
  }
 },
 "nbformat": 4,
 "nbformat_minor": 0
}