{
 "cells": [
  {
   "cell_type": "code",
   "execution_count": 1,
   "metadata": {
    "collapsed": true
   },
   "outputs": [],
   "source": [
    "import networkx as nx\n",
    "from operator import add, sub\n",
    "import numpy as np\n",
    "import matplotlib.pyplot as plt\n",
    "from python.SpringRank import SpringRank\n",
    "import python.tools as tl\n",
    "import copy\n",
    "import random"
   ]
  },
  {
   "cell_type": "code",
   "execution_count": 13,
   "outputs": [
    {
     "data": {
      "text/plain": "<Figure size 432x288 with 1 Axes>",
      "image/png": "[encoded data removed]"
     },
     "metadata": {},
     "output_type": "display_data"
    }
   ],
   "source": [
    "DG = nx.DiGraph()\n",
    "DG.add_weighted_edges_from([(0, 2, 1), (0, 3, 1), (1, 3, 1)])\n",
    "nx.draw(DG, with_labels=True)\n",
    "graph = DG"
   ],
   "metadata": {
    "collapsed": false,
    "pycharm": {
     "name": "#%%\n"
    }
   }
  },
  {
   "cell_type": "code",
   "execution_count": 14,
   "outputs": [],
   "source": [
    "self_edge_weight = 1\n",
    "with_rounding = False\n",
    "min_iter = 1000\n",
    "print_rate = 100\n",
    "max_iter = 10000"
   ],
   "metadata": {
    "collapsed": false,
    "pycharm": {
     "name": "#%%\n"
    }
   }
  },
  {
   "cell_type": "code",
   "execution_count": 15,
   "outputs": [],
   "source": [
    "#intialise dictionary\n",
    "# this creates potential issues - are the orders the same in both results???:\n",
    "node_page = {}\n",
    "for node in list(graph.nodes()):\n",
    "    node_page[node] = {}"
   ],
   "metadata": {
    "collapsed": false,
    "pycharm": {
     "name": "#%%\n"
    }
   }
  },
  {
   "cell_type": "code",
   "execution_count": 19,
   "outputs": [],
   "source": [
    "#calculating what each nodes page will look like\n",
    "for i in range(10):\n",
    "    for node in list(graph.nodes()):\n",
    "        #The sum on the weights coming in:\n",
    "        norm_const = 1/(graph.in_degree(node, weight='weight')+self_edge_weight)\n",
    "        #setting up the new dictionary\n",
    "        new_page_draft = {}\n",
    "        new_page_draft[node] = norm_const\n",
    "\n",
    "        #for each superior node - node that is predecessor\n",
    "        for superior in list(graph.predecessors(node)):\n",
    "            #get the weight of the superiors influence\n",
    "            edge_weight = graph.get_edge_data(superior, node)[\"weight\"]\n",
    "\n",
    "            #add weight time its page(dictionary) to the current nodes dictionary\n",
    "            for entry in node_page[superior].keys():\n",
    "                new_page_draft[entry] = new_page_draft.get(entry, 0) + edge_weight*(norm_const)*node_page[superior][entry]\n",
    "\n",
    "        node_page[node] = new_page_draft"
   ],
   "metadata": {
    "collapsed": false,
    "pycharm": {
     "name": "#%%\n"
    }
   }
  },
  {
   "cell_type": "code",
   "execution_count": 20,
   "outputs": [],
   "source": [
    "#now calculating each nodes \"page\" rank values\n",
    "#output is list with node i's value at position i\n",
    "ranking = {}\n",
    "\n",
    "for node in list(graph.nodes()):\n",
    "    current_node_page = node_page[node]\n",
    "    for entry in current_node_page.keys():\n",
    "        ranking[entry] = ranking.get(entry, 0) + current_node_page[entry]"
   ],
   "metadata": {
    "collapsed": false,
    "pycharm": {
     "name": "#%%\n"
    }
   }
  },
  {
   "cell_type": "code",
   "execution_count": 21,
   "outputs": [
    {
     "data": {
      "text/plain": "{0: 1.8333333333333333, 2: 0.5, 3: 0.3333333333333333, 1: 1.3333333333333333}"
     },
     "execution_count": 21,
     "metadata": {},
     "output_type": "execute_result"
    }
   ],
   "source": [
    "ranking"
   ],
   "metadata": {
    "collapsed": false,
    "pycharm": {
     "name": "#%%\n"
    }
   }
  },
  {
   "cell_type": "code",
   "execution_count": null,
   "outputs": [],
   "source": [
    "def get_space_ranks(graph, self_edge_weight = 1, with_rounding = False, min_iter = 1000, print_rate = 100, max_iter = 10000):\n",
    "    #intialise dictionary\n",
    "    # this creates potential issues - are the orders the same in both results???:\n",
    "    node_page = {}\n",
    "    for node in list(graph.nodes()):\n",
    "        node_page[node] = {}\n",
    "\n",
    "    #calculating what each nodes page will look like\n",
    "    i = 0\n",
    "    while True:\n",
    "        i = i+1\n",
    "        change = 0\n",
    "        for node in list(graph.nodes()):\n",
    "            #The sum on the weights coming in:\n",
    "            norm_const = 1/(graph.in_degree(node, weight='weight')+self_edge_weight)\n",
    "            #setting up the new dictionary\n",
    "            new_page_draft = {}\n",
    "            new_page_draft[node] = norm_const\n",
    "\n",
    "            #for each superior node - node that is predecessor\n",
    "            for superior in list(graph.predecessors(node)):\n",
    "                #get the weight of the superiors influence\n",
    "                edge_weight = graph.get_edge_data(superior, node)[\"weight\"]\n",
    "\n",
    "                #add weight time its page(dictionary) to the current nodes dictionary\n",
    "                for entry in node_page[superior].keys():\n",
    "                    new_page_draft[entry] = new_page_draft.get(entry, 0) + edge_weight*(norm_const)*node_page[superior][entry]\n",
    "\n",
    "            node_page[node] = new_page_draft\n",
    "\n",
    "        if i%print_rate == 0:\n",
    "            print(\"Currently at iteration \", i)\n",
    "\n",
    "        if (i>max_iter): # (i>min_iter and abs(change) < 1) or (i>max_iter):\n",
    "            #print(\"stopped at iteration:\", i)\n",
    "            break\n",
    "\n",
    "    ranking = {}"
   ],
   "metadata": {
    "collapsed": false,
    "pycharm": {
     "name": "#%%\n"
    }
   }
  }
 ],
 "metadata": {
  "kernelspec": {
   "display_name": "Python 3",
   "language": "python",
   "name": "python3"
  },
  "language_info": {
   "codemirror_mode": {
    "name": "ipython",
    "version": 2
   },
   "file_extension": ".py",
   "mimetype": "text/x-python",
   "name": "python",
   "nbconvert_exporter": "python",
   "pygments_lexer": "ipython2",
   "version": "2.7.6"
  }
 },
 "nbformat": 4,
 "nbformat_minor": 0
}