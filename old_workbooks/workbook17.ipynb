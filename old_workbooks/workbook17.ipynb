{
 "cells": [
  {
   "cell_type": "code",
   "execution_count": null,
   "metadata": {
    "collapsed": true
   },
   "outputs": [],
   "source": []
  },
  {
   "cell_type": "code",
   "execution_count": 1,
   "outputs": [],
   "source": [
    "import networkx as nx\n",
    "from operator import add, sub\n",
    "\n",
    "import numpy as np\n",
    "import matplotlib.pyplot as plt\n",
    "from def_space_spring import *\n",
    "import random\n",
    "import copy\n",
    "import python.tools as tl\n",
    "from statistics import mean\n",
    "import json\n",
    "import seaborn as sns\n",
    "import matplotlib.pyplot as plt\n",
    "import pandas as pd\n",
    "from load_dataset import *"
   ],
   "metadata": {
    "collapsed": false,
    "pycharm": {
     "name": "#%%\n"
    }
   }
  },
  {
   "cell_type": "code",
   "execution_count": 7,
   "outputs": [],
   "source": [
    "datasets = [\"Wikipedia Admin Votes\", \"DBLP Citations\" , \"Faculty Hiring (History)\", \"Faculty Hiring (CS)\",\n",
    "                \"Faculty Hiring (Business)\",\"Corporate Ownership\", \"Political Blog Links\", \"C. Elegans Neural\", \"Drosophila Medulla\", \"twitter\"]"
   ],
   "metadata": {
    "collapsed": false,
    "pycharm": {
     "name": "#%%\n"
    }
   }
  },
  {
   "cell_type": "code",
   "execution_count": 8,
   "outputs": [
    {
     "name": "stdout",
     "output_type": "stream",
     "text": [
      "dataset: Wikipedia Admin Votes\n",
      "nodes  7115\n",
      "edges  103689\n",
      "dataset: DBLP Citations\n",
      "nodes  12590\n",
      "edges  49759\n",
      "dataset: Faculty Hiring (History)\n",
      "nodes  145\n",
      "edges  2334\n",
      "dataset: Faculty Hiring (CS)\n",
      "nodes  206\n",
      "edges  2865\n",
      "dataset: Faculty Hiring (Business)\n",
      "nodes  113\n",
      "edges  3027\n",
      "dataset: Corporate Ownership\n",
      "nodes  7253\n",
      "edges  6726\n",
      "dataset: Political Blog Links\n",
      "nodes  1224\n",
      "edges  19025\n",
      "dataset: C. Elegans Neural\n",
      "nodes  297\n",
      "edges  2345\n",
      "dataset: Drosophila Medulla\n",
      "nodes  1781\n",
      "edges  9735\n",
      "dataset: twitter\n",
      "nodes  81306\n",
      "edges  1768149\n"
     ]
    }
   ],
   "source": [
    "for dataset in datasets:\n",
    "    DG = load_dataset(dataset)\n",
    "    print(\"dataset:\", dataset)\n",
    "    print(\"nodes \",DG.number_of_nodes())\n",
    "    print(\"edges \", DG.number_of_edges())"
   ],
   "metadata": {
    "collapsed": false,
    "pycharm": {
     "name": "#%%\n"
    }
   }
  },
  {
   "cell_type": "code",
   "execution_count": null,
   "outputs": [],
   "source": [],
   "metadata": {
    "collapsed": false,
    "pycharm": {
     "name": "#%%\n"
    }
   }
  }
 ],
 "metadata": {
  "kernelspec": {
   "name": "pycharm-64a6ae6c",
   "language": "python",
   "display_name": "PyCharm (node_importance)"
  },
  "language_info": {
   "codemirror_mode": {
    "name": "ipython",
    "version": 2
   },
   "file_extension": ".py",
   "mimetype": "text/x-python",
   "name": "python",
   "nbconvert_exporter": "python",
   "pygments_lexer": "ipython2",
   "version": "2.7.6"
  }
 },
 "nbformat": 4,
 "nbformat_minor": 0
}