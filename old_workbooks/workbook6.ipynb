{
 "cells": [
  {
   "cell_type": "code",
   "execution_count": 2,
   "outputs": [],
   "source": [
    "import networkx as nx\n",
    "from operator import add, sub\n",
    "import numpy as np\n",
    "import matplotlib.pyplot as plt\n",
    "from def_space_spring import *\n",
    "import random\n",
    "import copy\n",
    "import python.tools as tl\n",
    "from statistics import mean\n",
    "from datetime import datetime\n",
    "\n",
    "def print_time():\n",
    "    now = datetime.now()\n",
    "\n",
    "    current_time = now.strftime(\"%H:%M:%S\")\n",
    "    print(\"Current Time =\", current_time)"
   ],
   "metadata": {
    "collapsed": false,
    "pycharm": {
     "name": "#%%\n"
    }
   }
  },
  {
   "cell_type": "code",
   "execution_count": 3,
   "outputs": [],
   "source": [
    "space_rank_performance = []\n",
    "spring_rank_performance = []\n",
    "page_rank_performance = []"
   ],
   "metadata": {
    "collapsed": false,
    "pycharm": {
     "name": "#%%\n"
    }
   }
  },
  {
   "cell_type": "code",
   "execution_count": 4,
   "outputs": [],
   "source": [
    "DG = nx.fast_gnp_random_graph(1000, 0.3, directed=True)\n",
    "for edge in DG.edges():\n",
    "    DG[edge[0]][edge[1]]['weight'] = random.randint(0,10)"
   ],
   "metadata": {
    "collapsed": false,
    "pycharm": {
     "name": "#%%\n"
    }
   }
  },
  {
   "cell_type": "code",
   "execution_count": 5,
   "outputs": [],
   "source": [
    "mapping = dict(zip(DG, range(0, DG.number_of_nodes())))\n",
    "relabelled_DG = nx.relabel_nodes(DG, mapping)"
   ],
   "metadata": {
    "collapsed": false,
    "pycharm": {
     "name": "#%%\n"
    }
   }
  },
  {
   "cell_type": "code",
   "execution_count": 6,
   "outputs": [],
   "source": [
    "reduced_graph, removed_edges = reduce_graph(relabelled_DG, perc_edge_del=0.2)"
   ],
   "metadata": {
    "collapsed": false,
    "pycharm": {
     "name": "#%%\n"
    }
   }
  },
  {
   "cell_type": "code",
   "execution_count": 7,
   "outputs": [],
   "source": [
    "graph_spring_ranks = get_spring_ranks(reduced_graph, with_rounding = True)"
   ],
   "metadata": {
    "collapsed": false,
    "pycharm": {
     "name": "#%%\n"
    }
   }
  },
  {
   "cell_type": "code",
   "execution_count": 9,
   "outputs": [
    {
     "name": "stdout",
     "output_type": "stream",
     "text": [
      "Current Time = 12:39:21\n"
     ]
    }
   ],
   "source": [
    "print_time()"
   ],
   "metadata": {
    "collapsed": false,
    "pycharm": {
     "name": "#%%\n"
    }
   }
  },
  {
   "cell_type": "code",
   "execution_count": 10,
   "outputs": [
    {
     "name": "stdout",
     "output_type": "stream",
     "text": [
      "Currently at iteration  1\n",
      "Currently at iteration  2\n",
      "Currently at iteration  3\n",
      "Currently at iteration  4\n",
      "Currently at iteration  5\n"
     ]
    }
   ],
   "source": [
    "graph_space_ranks = get_space_ranks(reduced_graph, with_rounding = True, min_iter=1, print_rate=1, max_iter=4)"
   ],
   "metadata": {
    "collapsed": false,
    "pycharm": {
     "name": "#%%\n"
    }
   }
  },
  {
   "cell_type": "code",
   "execution_count": 11,
   "outputs": [
    {
     "name": "stdout",
     "output_type": "stream",
     "text": [
      "Current Time = 12:43:11\n"
     ]
    }
   ],
   "source": [
    "print_time()"
   ],
   "metadata": {
    "collapsed": false,
    "pycharm": {
     "name": "#%%\n"
    }
   }
  },
  {
   "cell_type": "code",
   "execution_count": 13,
   "outputs": [
    {
     "name": "stdout",
     "output_type": "stream",
     "text": [
      "Current Time = 12:43:55\n"
     ]
    }
   ],
   "source": [
    "print_time()"
   ],
   "metadata": {
    "collapsed": false,
    "pycharm": {
     "name": "#%%\n"
    }
   }
  },
  {
   "cell_type": "code",
   "execution_count": 14,
   "outputs": [
    {
     "name": "stdout",
     "output_type": "stream",
     "text": [
      "Currently at iteration  1\n",
      "Currently at iteration  2\n",
      "Currently at iteration  3\n",
      "Currently at iteration  4\n",
      "Currently at iteration  5\n"
     ]
    }
   ],
   "source": [
    "graph_space_ranks = get_space_ranks_old(reduced_graph, with_rounding = True, min_iter=1, print_rate=1, max_iter=4)"
   ],
   "metadata": {
    "collapsed": false,
    "pycharm": {
     "name": "#%%\n"
    }
   }
  },
  {
   "cell_type": "code",
   "execution_count": 15,
   "outputs": [
    {
     "name": "stdout",
     "output_type": "stream",
     "text": [
      "Current Time = 12:48:00\n"
     ]
    }
   ],
   "source": [
    "print_time()"
   ],
   "metadata": {
    "collapsed": false,
    "pycharm": {
     "name": "#%%\n"
    }
   }
  },
  {
   "cell_type": "code",
   "execution_count": 17,
   "outputs": [],
   "source": [
    "graph_page_rank_dict = nx.pagerank(reduced_graph, alpha=0.6)"
   ],
   "metadata": {
    "collapsed": false,
    "pycharm": {
     "name": "#%%\n"
    }
   }
  },
  {
   "cell_type": "code",
   "execution_count": 18,
   "outputs": [],
   "source": [
    "space_rank_performance = space_rank_performance + [perc_correct(removed_edges, graph_space_ranks)]\n",
    "spring_rank_performance = spring_rank_performance + [perc_correct(removed_edges, graph_spring_ranks)]\n",
    "page_rank_performance = page_rank_performance + [perc_correct(removed_edges, graph_page_rank_dict)]\n",
    "\n",
    "\n"
   ],
   "metadata": {
    "collapsed": false,
    "pycharm": {
     "name": "#%%\n"
    }
   }
  },
  {
   "cell_type": "code",
   "execution_count": 19,
   "outputs": [
    {
     "name": "stdout",
     "output_type": "stream",
     "text": [
      "space rank performance  0.545\n",
      "spring rank performance  0.535\n",
      "page rank performance  0.45\n"
     ]
    }
   ],
   "source": [
    "print(\"space rank performance \", mean(space_rank_performance))\n",
    "print(\"spring rank performance \", mean(spring_rank_performance))\n",
    "print(\"page rank performance \", mean(page_rank_performance))"
   ],
   "metadata": {
    "collapsed": false,
    "pycharm": {
     "name": "#%%\n"
    }
   }
  },
  {
   "cell_type": "code",
   "execution_count": null,
   "outputs": [],
   "source": [],
   "metadata": {
    "collapsed": false,
    "pycharm": {
     "name": "#%%\n"
    }
   }
  }
 ],
 "metadata": {
  "kernelspec": {
   "display_name": "Python 3",
   "language": "python",
   "name": "python3"
  },
  "language_info": {
   "codemirror_mode": {
    "name": "ipython",
    "version": 2
   },
   "file_extension": ".py",
   "mimetype": "text/x-python",
   "name": "python",
   "nbconvert_exporter": "python",
   "pygments_lexer": "ipython2",
   "version": "2.7.6"
  }
 },
 "nbformat": 4,
 "nbformat_minor": 0
}