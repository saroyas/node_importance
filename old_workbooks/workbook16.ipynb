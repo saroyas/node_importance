{
 "cells": [
  {
   "cell_type": "code",
   "execution_count": 1,
   "metadata": {
    "collapsed": true
   },
   "outputs": [],
   "source": [
    "import networkx as nx\n",
    "from operator import add, sub\n",
    "\n",
    "import numpy as np\n",
    "import matplotlib.pyplot as plt\n",
    "from def_space_spring import *\n",
    "import random\n",
    "import copy\n",
    "import python.tools as tl\n",
    "from statistics import mean\n",
    "import json\n",
    "import seaborn as sns\n",
    "import matplotlib.pyplot as plt\n",
    "import pandas as pd"
   ]
  },
  {
   "cell_type": "code",
   "execution_count": 2,
   "outputs": [],
   "source": [
    "def multi_to_di(multi_DG):\n",
    "    DG = nx.DiGraph()\n",
    "    for u,v,data in multi_DG.edges(data=True):\n",
    "        w = data['weight'] if 'weight' in data else 1.0\n",
    "        if DG.has_edge(u,v):\n",
    "            DG[u][v]['weight'] += w\n",
    "        else:\n",
    "            DG.add_edge(u, v, weight=w)\n",
    "    return DG"
   ],
   "metadata": {
    "collapsed": false,
    "pycharm": {
     "name": "#%%\n"
    }
   }
  },
  {
   "cell_type": "code",
   "execution_count": 3,
   "outputs": [],
   "source": [
    "filelocation = \"data/faculty_hiring/History_edgelist.txt\"\n",
    "def load_faculty(filelocation):\n",
    "    dataframe_network = pd.read_csv(filelocation, sep = \"\\t\")\n",
    "    dataframe_network = dataframe_network.drop(\"gender\",1)\n",
    "    def position_to_weight(position):\n",
    "        if position == \"Assoc\":\n",
    "            return 1\n",
    "        else:\n",
    "            return 2\n",
    "    dataframe_network['rank'] = dataframe_network['rank'].map(lambda position: position_to_weight(position))\n",
    "    dataframe_network = dataframe_network.rename(columns={'rank':'weight', \"# u\": \"source\", 'v': 'target'})\n",
    "    multi_DG = nx.from_pandas_edgelist(dataframe_network, edge_attr = \"weight\", create_using=nx.MultiGraph())\n",
    "    \n",
    "    return multi_DG"
   ],
   "metadata": {
    "collapsed": false,
    "pycharm": {
     "name": "#%%\n"
    }
   }
  },
  {
   "cell_type": "code",
   "execution_count": 4,
   "outputs": [],
   "source": [
    "multi_DG = load_faculty(filelocation)\n"
   ],
   "metadata": {
    "collapsed": false,
    "pycharm": {
     "name": "#%%\n"
    }
   }
  },
  {
   "cell_type": "code",
   "execution_count": 5,
   "outputs": [],
   "source": [
    "DG = multi_to_di(multi_DG)"
   ],
   "metadata": {
    "collapsed": false,
    "pycharm": {
     "name": "#%%\n"
    }
   }
  },
  {
   "cell_type": "code",
   "execution_count": 6,
   "outputs": [
    {
     "data": {
      "text/plain": "{'weight': 17}"
     },
     "execution_count": 6,
     "metadata": {},
     "output_type": "execute_result"
    }
   ],
   "source": [
    "DG.get_edge_data(1,1)"
   ],
   "metadata": {
    "collapsed": false,
    "pycharm": {
     "name": "#%%\n"
    }
   }
  },
  {
   "cell_type": "code",
   "execution_count": null,
   "outputs": [],
   "source": [],
   "metadata": {
    "collapsed": false,
    "pycharm": {
     "name": "#%%\n"
    }
   }
  }
 ],
 "metadata": {
  "kernelspec": {
   "name": "pycharm-64a6ae6c",
   "language": "python",
   "display_name": "PyCharm (node_importance)"
  },
  "language_info": {
   "codemirror_mode": {
    "name": "ipython",
    "version": 2
   },
   "file_extension": ".py",
   "mimetype": "text/x-python",
   "name": "python",
   "nbconvert_exporter": "python",
   "pygments_lexer": "ipython2",
   "version": "2.7.6"
  }
 },
 "nbformat": 4,
 "nbformat_minor": 0
}