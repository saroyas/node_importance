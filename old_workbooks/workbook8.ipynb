{
 "cells": [
  {
   "cell_type": "code",
   "execution_count": 1,
   "metadata": {
    "collapsed": true
   },
   "outputs": [],
   "source": [
    "import networkx as nx\n",
    "from operator import add, sub\n",
    "import numpy as np\n",
    "import matplotlib.pyplot as plt\n",
    "from python.SpringRank import SpringRank\n",
    "import python.tools as tl\n",
    "import copy\n",
    "import random\n",
    "from def_space_spring import *"
   ]
  },
  {
   "cell_type": "code",
   "execution_count": 2,
   "outputs": [],
   "source": [
    "DG = nx.fast_gnp_random_graph(100, 0.3, directed=True)\n",
    "for edge in DG.edges():\n",
    "    DG[edge[0]][edge[1]]['weight'] = random.randint(0,10)"
   ],
   "metadata": {
    "collapsed": false,
    "pycharm": {
     "name": "#%%\n"
    }
   }
  },
  {
   "cell_type": "code",
   "execution_count": null,
   "outputs": [],
   "source": [
    "def generalised_page_rank(graph, self_loop_weight = 0, alpha = 1,\n",
    "                          page_size = 0, end_normalise = False,\n",
    "                          min_iter = 1000, print_rate = 100, max_iter = 10000,\n",
    "                          cut_off_change = 0.000001):\n",
    "    fspace = {}\n",
    "    for node in graph.nodes():\n",
    "        fspace[node] = 1/(graph.number_of_nodes())\n",
    "\n",
    "    norm_const = {}\n",
    "    for node in graph.nodes():\n",
    "        node_out_weight = graph.out_degree(node, weight = \"weight\")\n",
    "        norm_const[node] = 1/(node_out_weight + self_loop_weight)\n",
    "\n",
    "    i = 0\n",
    "    while True:\n",
    "        i = i+1\n",
    "        change = 0\n",
    "        for node in graph.nodes():\n",
    "            sum_normed_pred_fspace = 0\n",
    "            for pred in graph.predecessors(node):\n",
    "                sum_normed_pred_fspace = sum_normed_pred_fspace + norm_const[pred]*fspace[pred]*graph.get_edge_data(pred, node)[\"weight\"]\n",
    "\n",
    "\n",
    "            new_fspace_node = page_size + alpha*(sum_normed_pred_fspace) + (1-alpha)/(graph.number_of_nodes())\n",
    "            change = change + fspace[node] - new_fspace_node\n",
    "            fspace[node] = new_fspace_node\n",
    "\n",
    "        if i%print_rate == 0:\n",
    "            print(\"Currently finished iteration \", i)\n",
    "            print(\"Change in this iteration\", change)\n",
    "\n",
    "        if (i>max_iter) or (i>min_iter and abs(change) < cut_off_change):\n",
    "            print(\"stopped at iteration:\", i)\n",
    "            break\n",
    "\n",
    "    if end_normalise == True:\n",
    "        space_ranking = {}\n",
    "        for node in graph.nodes():\n",
    "            space_ranking[node] = self_loop_weight * norm_const[node] * fspace[node]\n",
    "\n",
    "        return space_ranking\n",
    "    else:\n",
    "        return fspace"
   ],
   "metadata": {
    "collapsed": false,
    "pycharm": {
     "name": "#%%\n"
    }
   }
  },
  {
   "cell_type": "code",
   "execution_count": null,
   "outputs": [],
   "source": [
    "\n",
    "general_page_rank_version = generalised_page_rank(DG, alpha=0.85, self_loop_weight=0, page_size = 0, end_normalise = False, print_rate=100, min_iter=1000, max_iter=1000)"
   ],
   "metadata": {
    "collapsed": false,
    "pycharm": {
     "name": "#%%\n"
    }
   }
  },
  {
   "cell_type": "code",
   "execution_count": 5,
   "outputs": [],
   "source": [
    "page_rank_version = nx.pagerank(DG, alpha = 0.85)"
   ],
   "metadata": {
    "collapsed": false,
    "pycharm": {
     "name": "#%%\n"
    }
   }
  },
  {
   "cell_type": "code",
   "execution_count": 6,
   "outputs": [
    {
     "name": "stdout",
     "output_type": "stream",
     "text": [
      "Currently finished iteration  100\n",
      "Change in this iteration -50.65349739092858\n",
      "Currently finished iteration  200\n",
      "Change in this iteration -12.726395106176938\n",
      "Currently finished iteration  300\n",
      "Change in this iteration -3.197432373693033\n",
      "Currently finished iteration  400\n",
      "Change in this iteration -0.8033361921450819\n",
      "Currently finished iteration  500\n",
      "Change in this iteration -0.201833522084911\n",
      "Currently finished iteration  600\n",
      "Change in this iteration -0.05070949253340018\n",
      "Currently finished iteration  700\n",
      "Change in this iteration -0.012740463557918247\n",
      "Currently finished iteration  800\n",
      "Change in this iteration -0.003200966989737708\n",
      "Currently finished iteration  900\n",
      "Change in this iteration -0.0008042242442343195\n",
      "Currently finished iteration  1000\n",
      "Change in this iteration -0.00020205664193895245\n",
      "stopped at iteration: 1001\n"
     ]
    }
   ],
   "source": [
    "original_version = get_space_ranks(DG.reverse(), print_rate=100, min_iter=1000, max_iter = 1000)"
   ],
   "metadata": {
    "collapsed": false,
    "pycharm": {
     "name": "#%%\n"
    }
   }
  },
  {
   "cell_type": "code",
   "execution_count": 7,
   "outputs": [
    {
     "name": "stdout",
     "output_type": "stream",
     "text": [
      "page rank :  0.009181074291722211\n",
      "generalised page rank :  0.009181340035073673\n",
      "original rank :  0.9575461707738657\n",
      "page rank :  0.006215352902156288\n",
      "generalised page rank :  0.00621536337240132\n",
      "original rank :  0.5367017392645617\n",
      "page rank :  0.009307721482039141\n",
      "generalised page rank :  0.009308016954989536\n",
      "original rank :  0.9453490610965847\n",
      "page rank :  0.010693618986625027\n",
      "generalised page rank :  0.01069375666771761\n",
      "original rank :  1.0815381335062855\n",
      "page rank :  0.009850140635271735\n",
      "generalised page rank :  0.009850194264699208\n",
      "original rank :  1.2380080329740044\n",
      "page rank :  0.00979268372564846\n",
      "generalised page rank :  0.009792600909742608\n",
      "original rank :  0.7932653093716155\n",
      "page rank :  0.00907355412546788\n",
      "generalised page rank :  0.009073380231007686\n",
      "original rank :  0.9682036052538239\n",
      "page rank :  0.010946048820836605\n",
      "generalised page rank :  0.010946090741163437\n",
      "original rank :  0.829314320681015\n",
      "page rank :  0.011396835448801022\n",
      "generalised page rank :  0.011396698638572478\n",
      "original rank :  1.0849121045134327\n",
      "page rank :  0.012223371058539326\n",
      "generalised page rank :  0.012223096441172606\n",
      "original rank :  1.4177745008747429\n"
     ]
    }
   ],
   "source": [
    "for i in range(10,20):\n",
    "    print(\"page rank : \", page_rank_version[i])\n",
    "    print(\"generalised page rank : \", general_page_rank_version[i])\n",
    "    print(\"original rank : \", original_version[i])"
   ],
   "metadata": {
    "collapsed": false,
    "pycharm": {
     "name": "#%%\n"
    }
   }
  },
  {
   "cell_type": "code",
   "execution_count": null,
   "outputs": [],
   "source": [],
   "metadata": {
    "collapsed": false,
    "pycharm": {
     "name": "#%%\n"
    }
   }
  }
 ],
 "metadata": {
  "kernelspec": {
   "display_name": "Python 3",
   "language": "python",
   "name": "python3"
  },
  "language_info": {
   "codemirror_mode": {
    "name": "ipython",
    "version": 2
   },
   "file_extension": ".py",
   "mimetype": "text/x-python",
   "name": "python",
   "nbconvert_exporter": "python",
   "pygments_lexer": "ipython2",
   "version": "2.7.6"
  }
 },
 "nbformat": 4,
 "nbformat_minor": 0
}