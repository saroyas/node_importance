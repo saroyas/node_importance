{
 "cells": [
  {
   "cell_type": "code",
   "execution_count": 84,
   "metadata": {
    "collapsed": true,
    "pycharm": {
     "is_executing": false
    }
   },
   "outputs": [],
   "source": [
    "import networkx as nx\n",
    "from operator import add, sub\n",
    "import numpy as np\n",
    "import matplotlib.pyplot as plt"
   ]
  },
  {
   "cell_type": "code",
   "execution_count": 92,
   "outputs": [],
   "source": [
    "DG = nx.DiGraph()\n",
    "DG.add_weighted_edges_from([(0, 2, 1), (1, 2, 1), (1, 3, 2), (3, 4, 1)])\n",
    "self_edge_weight = 1\n",
    "\n",
    "list(DG.predecessors(2))\n",
    "DG.in_degree(3, weight='weight')"
   ],
   "metadata": {
    "collapsed": false,
    "pycharm": {
     "name": "#%%\n",
     "is_executing": false
    }
   }
  },
  {
   "cell_type": "code",
   "execution_count": 94,
   "outputs": [
    {
     "name": "stdout",
     "text": [
      "{0: [0.0, 0.0, 0.0, 0.0, 0.0], 2: [0.0, 0.0, 0.0, 0.0, 0.0], 1: [0.0, 0.0, 0.0, 0.0, 0.0], 3: [0.0, 0.0, 0.0, 0.0, 0.0], 4: [0.0, 0.0, 0.0, 0.0, 0.0]}\n"
     ],
     "output_type": "stream"
    }
   ],
   "source": [
    "#intialise dictionary\n",
    "node_page = {}\n",
    "for node in list(DG.nodes()):\n",
    "    node_page[node] = [0.0] * DG.number_of_nodes()\n",
    "    \n",
    "print(node_page)"
   ],
   "metadata": {
    "collapsed": false,
    "pycharm": {
     "name": "#%%\n",
     "is_executing": false
    }
   }
  },
  {
   "cell_type": "code",
   "execution_count": 95,
   "outputs": [
    {
     "name": "stdout",
     "text": [
      "Currently at iteration  0\nstopped at iteration: 1\n"
     ],
     "output_type": "stream"
    }
   ],
   "source": [
    "#calculating what each nodes page will look like\n",
    "for i in range(1000):\n",
    "    change = 0\n",
    "    for node in list(DG.nodes()):\n",
    "        norm_const = 1/(DG.in_degree(node, weight='weight')+self_edge_weight)\n",
    "        new_page_draft = [0.0] * DG.number_of_nodes()\n",
    "        new_page_draft[node] = norm_const\n",
    "        for superior in list(DG.predecessors(node)):\n",
    "            edge_weight = DG.get_edge_data(superior, node)[\"weight\"]\n",
    "            new_page_draft = list(map(add, new_page_draft, [edge_weight*(norm_const)*x for x in node_page[superior]]))\n",
    "        \n",
    "        change = change + sum(list(map(sub, node_page[node], new_page_draft)))\n",
    "        node_page[node] = new_page_draft\n",
    "        \n",
    "    if i%100 == 0:\n",
    "        print(\"Currently at iteration \", i)\n",
    "        \n",
    "    if abs(change) < 1:\n",
    "        print(\"stopped at iteration:\", i)\n",
    "        break"
   ],
   "metadata": {
    "collapsed": false,
    "pycharm": {
     "name": "#%%\n",
     "is_executing": false
    }
   }
  },
  {
   "cell_type": "code",
   "execution_count": 96,
   "outputs": [
    {
     "data": {
      "text/plain": "{0: [1.0, 0.0, 0.0, 0.0, 0.0],\n 2: [0.3333333333333333, 0.3333333333333333, 0.3333333333333333, 0.0, 0.0],\n 1: [0.0, 1.0, 0.0, 0.0, 0.0],\n 3: [0.0, 0.6666666666666666, 0.0, 0.3333333333333333, 0.0],\n 4: [0.0, 0.3333333333333333, 0.0, 0.16666666666666666, 0.5]}"
     },
     "metadata": {},
     "output_type": "execute_result",
     "execution_count": 96
    }
   ],
   "source": [
    "node_page"
   ],
   "metadata": {
    "collapsed": false,
    "pycharm": {
     "name": "#%%\n",
     "is_executing": false
    }
   }
  },
  {
   "cell_type": "code",
   "execution_count": 97,
   "outputs": [],
   "source": [
    "#now calculating each nodes \"page\" rank values\n",
    "#output is list with node i's value at position i\n",
    "ranking = [0.0] * DG.number_of_nodes()\n",
    "for node in node_page.keys():\n",
    "    ranking = list(map(add, ranking, node_page[node]))"
   ],
   "metadata": {
    "collapsed": false,
    "pycharm": {
     "name": "#%%\n",
     "is_executing": false
    }
   }
  },
  {
   "cell_type": "code",
   "execution_count": 98,
   "outputs": [
    {
     "name": "stdout",
     "text": [
      "[1.3333333333333333, 2.3333333333333335, 0.3333333333333333, 0.5, 0.5]\n"
     ],
     "output_type": "stream"
    }
   ],
   "source": [
    "print(ranking)"
   ],
   "metadata": {
    "collapsed": false,
    "pycharm": {
     "name": "#%%\n",
     "is_executing": false
    }
   }
  },
  {
   "cell_type": "code",
   "execution_count": null,
   "outputs": [],
   "source": [
    "\n"
   ],
   "metadata": {
    "collapsed": false,
    "pycharm": {
     "name": "#%%\n"
    }
   }
  }
 ],
 "metadata": {
  "kernelspec": {
   "display_name": "Python 3",
   "language": "python",
   "name": "python3"
  },
  "language_info": {
   "codemirror_mode": {
    "name": "ipython",
    "version": 2
   },
   "file_extension": ".py",
   "mimetype": "text/x-python",
   "name": "python",
   "nbconvert_exporter": "python",
   "pygments_lexer": "ipython2",
   "version": "2.7.6"
  }
 },
 "nbformat": 4,
 "nbformat_minor": 0
}