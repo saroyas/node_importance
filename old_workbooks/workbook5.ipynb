{
 "cells": [
  {
   "cell_type": "code",
   "execution_count": 1,
   "metadata": {
    "collapsed": true
   },
   "outputs": [
    {
     "name": "stdout",
     "output_type": "stream",
     "text": [
      "helsjlo\n"
     ]
    }
   ],
   "source": [
    "import networkx as nx\n",
    "from operator import add, sub\n",
    "import numpy as np\n",
    "import matplotlib.pyplot as plt\n",
    "from def_space_spring import *\n",
    "import random\n",
    "import copy\n",
    "import python.tools as tl\n",
    "print(\"helsjlo\")"
   ]
  },
  {
   "cell_type": "code",
   "execution_count": 2,
   "outputs": [],
   "source": [
    "#DG = nx.DiGraph()\n",
    "#DG.add_weighted_edges_from([(0, 2, 1), (1, 2, 1), (1, 3, 2), (3, 4, 1)])\n",
    "#nx.draw(DG, with_labels=True)\n",
    "\n",
    "#inadjacency='data/US_CS_adjacency.dat'\n",
    "#DG=tl.build_graph_from_adjacency(inadjacency)\n",
    "\n",
    "#DG = nx.fast_gnp_random_graph(100, 0.3, directed=True)\n",
    "#for edge in DG.edges():\n",
    "#    DG[edge[0]][edge[1]]['weight'] = random.randint(0,10)\n",
    "\n",
    "\n",
    "#DG = nx.generators.directed.gn_graph(5000)\n",
    "#DG = nx.read_edgelist(\"data/twitter_combined.txt\",create_using=nx.DiGraph(), nodetype = int)\n",
    "#DG = nx.read_edgelist(\"data/email-Eu-core.txt\",create_using=nx.DiGraph(), nodetype = int)\n",
    "#DG = nx.read_edgelist(\"data/ownership.txt\",create_using=nx.DiGraph(), nodetype = int)\n",
    "#DG = nx.read_edgelist(\"data/Wiki-Vote.txt\",create_using=nx.DiGraph(), nodetype = int)\n",
    "#DG = nx.read_edgelist(\"data/dblp-cite/out.dblp-cite\",create_using=nx.DiGraph(), nodetype = int, data=False)\n",
    "#for edge in DG.edges():\n",
    "#    DG[edge[0]][edge[1]]['weight'] = 1\n",
    "\n",
    "\n",
    "multi_DG = nx.read_edgelist(\"data/faculty_hiring/History_edgelist.txt\",create_using=nx.DiGraph(), nodetype = int, data = False)\n",
    "#multi_DG = nx.read_edgelist(\"data/faculty_hiring/ComputerScience_edgelist.txt\",create_using=nx.DiGraph(), nodetype = int, data = False)\n",
    "#multi_DG = nx.read_edgelist(\"data/faculty_hiring/Business_edgelist.txt\",create_using=nx.DiGraph(), nodetype = int, data = False)\n",
    "#multi_DG = nx.generators.directed.random_k_out_graph(2000, 10, 1)\n",
    "#multi_DG = nx.read_gml(\"data/polblogs.gml\")\n",
    "#multi_DG = nx.read_gml(\"data/celegansneural.gml\")\n",
    "#multi_DG = nx.read_graphml(\"data/drosophila_medulla_1.graphml\")\n",
    "#processing:\n",
    "DG = nx.DiGraph()\n",
    "for u,v,data in multi_DG.edges(data=True):\n",
    "    w = data['weight'] if 'weight' in data else 1.0\n",
    "    if DG.has_edge(u,v):\n",
    "        DG[u][v]['weight'] += w\n",
    "    else:\n",
    "        DG.add_edge(u, v, weight=w)\n"
   ],
   "metadata": {
    "collapsed": false,
    "pycharm": {
     "name": "#%%\n"
    }
   }
  },
  {
   "cell_type": "code",
   "execution_count": 3,
   "outputs": [],
   "source": [
    "reverse = False"
   ],
   "metadata": {
    "collapsed": false,
    "pycharm": {
     "name": "#%%\n"
    }
   }
  },
  {
   "cell_type": "code",
   "execution_count": 4,
   "outputs": [],
   "source": [
    "mapping = dict(zip(DG, range(0, DG.number_of_nodes())))\n",
    "relabelled_DG = nx.relabel_nodes(DG, mapping)\n",
    "if reverse == True:\n",
    "    relabelled_DG = relabelled_DG.reverse()\n",
    "reduced_graph, removed_edges = reduce_graph(relabelled_DG, perc_edge_del=0.3)"
   ],
   "metadata": {
    "collapsed": false,
    "pycharm": {
     "name": "#%%\n"
    }
   }
  },
  {
   "cell_type": "code",
   "execution_count": 11,
   "outputs": [
    {
     "name": "stdout",
     "output_type": "stream",
     "text": [
      "Currently finished iteration  10\n",
      "Change in this iteration -129.64762337768767\n",
      "Currently finished iteration  20\n",
      "Change in this iteration -62.282279291294756\n",
      "Currently finished iteration  30\n",
      "Change in this iteration -29.920195969570386\n",
      "Currently finished iteration  40\n",
      "Change in this iteration -14.373560779150509\n",
      "Currently finished iteration  50\n",
      "Change in this iteration -6.905009903077911\n",
      "Currently finished iteration  60\n",
      "Change in this iteration -3.3171433644181434\n",
      "Currently finished iteration  70\n",
      "Change in this iteration -1.5935444343388667\n",
      "stopped at iteration: 77\n",
      "Currently finished iteration  10\n",
      "Change in this iteration -39.88995403688419\n",
      "Currently finished iteration  20\n",
      "Change in this iteration -5.105672580670117\n",
      "Currently finished iteration  30\n",
      "Change in this iteration -0.6534951488849003\n",
      "Currently finished iteration  40\n",
      "Change in this iteration -0.08364341874052172\n",
      "Currently finished iteration  50\n",
      "Change in this iteration -0.010705850701967279\n",
      "stopped at iteration: 51\n",
      "Currently finished iteration  10\n",
      "Change in this iteration 2.614808987166565\n",
      "Currently finished iteration  20\n",
      "Change in this iteration 0.04804504022082359\n",
      "Currently finished iteration  30\n",
      "Change in this iteration 0.0008827899188223257\n",
      "Currently finished iteration  40\n",
      "Change in this iteration 1.6220572137889966e-05\n",
      "Currently finished iteration  50\n",
      "Change in this iteration 2.9804028650604053e-07\n",
      "stopped at iteration: 51\n",
      "Currently finished iteration  10\n",
      "Change in this iteration -1.7709404742660695e-06\n",
      "Currently finished iteration  20\n",
      "Change in this iteration -4.82280881897168e-13\n",
      "Currently finished iteration  30\n",
      "Change in this iteration -1.1191048088221578e-13\n",
      "Currently finished iteration  40\n",
      "Change in this iteration -7.549516567451064e-14\n",
      "Currently finished iteration  50\n",
      "Change in this iteration -2.6645352591003757e-14\n",
      "stopped at iteration: 51\n"
     ]
    }
   ],
   "source": [
    "general_page_ranks_mimick_space_with_backflow = generalised_page_rank(reduced_graph, self_loop_weight = 1, alpha = 1, page_size = 1, end_normalise = True, arrow_dir_powerful=False, backflow=True, backflow_const=0.2, min_iter = 50, print_rate = 10, max_iter = 1000, cut_off_change = 1)\n",
    "general_page_ranks_mimick_space = generalised_page_rank(reduced_graph, self_loop_weight = 1, alpha = 1, page_size = 1, end_normalise = True, arrow_dir_powerful=False, backflow=False, backflow_const=0, min_iter = 50, print_rate = 10, max_iter = 1000, cut_off_change = 1)\n",
    "general_page_rank = generalised_page_rank(reduced_graph, self_loop_weight = 0, alpha = 0.85, page_size = 0, end_normalise = False, arrow_dir_powerful=False, backflow=False, backflow_const=0, min_iter = 50, print_rate = 10, max_iter = 1000, cut_off_change = 1)\n",
    "general_page_rank_with_backflow = generalised_page_rank(reduced_graph, self_loop_weight = 0, alpha = 1, page_size = 0, end_normalise = False, arrow_dir_powerful=False, backflow=True, backflow_const=0.2, min_iter = 50, print_rate = 10, max_iter = 1000, cut_off_change = 1)\n",
    "graph_page_rank_dict = nx.pagerank(reduced_graph, alpha=0.85, max_iter=1000)\n",
    "graph_spring_ranks = get_spring_ranks(reduced_graph, with_rounding = False)"
   ],
   "metadata": {
    "collapsed": false,
    "pycharm": {
     "name": "#%%\n"
    }
   }
  },
  {
   "cell_type": "code",
   "execution_count": 12,
   "outputs": [
    {
     "name": "stdout",
     "output_type": "stream",
     "text": [
      "Currently finished iteration  10\n",
      "Change in this iteration -39.88995403688419\n",
      "Currently finished iteration  20\n",
      "Change in this iteration -5.105672580670117\n",
      "Currently finished iteration  30\n",
      "Change in this iteration -0.6534951488849003\n",
      "Currently finished iteration  40\n",
      "Change in this iteration -0.08364341874052172\n",
      "Currently finished iteration  50\n",
      "Change in this iteration -0.010705850701967279\n",
      "Currently finished iteration  60\n",
      "Change in this iteration -0.0013702840102070013\n",
      "Currently finished iteration  70\n",
      "Change in this iteration -0.00017538804932826224\n",
      "Currently finished iteration  80\n",
      "Change in this iteration -2.2448607410296972e-05\n",
      "Currently finished iteration  90\n",
      "Change in this iteration -2.8732856094393355e-06\n",
      "Currently finished iteration  100\n",
      "Change in this iteration -3.677634197174484e-07\n",
      "stopped at iteration: 101\n"
     ]
    }
   ],
   "source": [
    "space_rank = get_space_ranks(reduced_graph, min_iter=100, print_rate=10)\n"
   ],
   "metadata": {
    "collapsed": false,
    "pycharm": {
     "name": "#%%\n"
    }
   }
  },
  {
   "cell_type": "code",
   "execution_count": 13,
   "outputs": [
    {
     "name": "stdout",
     "output_type": "stream",
     "text": [
      "reverse =  False\n",
      "Spring rank performance: 0.920455\n",
      "Mimick page rank: 0.875\n",
      "Mimick page rank w backflow: 0.920455\n",
      "Page rank performance(unreversed, so 1 -): 0.397727\n",
      "Mimick spacerank w. backflow : 0.920455\n",
      "Mimick spacerank: 0.897727\n",
      "Space page rank performance: 0.897727\n"
     ]
    }
   ],
   "source": [
    "print(\"reverse = \", reverse)\n",
    "print(\"Spring rank performance:\", perc_correct(removed_edges, graph_spring_ranks))\n",
    "print(\"Mimick page rank:\", perc_correct(removed_edges, general_page_rank))\n",
    "print(\"Mimick page rank w backflow:\", perc_correct(removed_edges, general_page_rank_with_backflow))\n",
    "print(\"Page rank performance(unreversed, so 1 -):\", perc_correct(removed_edges, graph_page_rank_dict))\n",
    "print(\"Mimick spacerank w. backflow :\", perc_correct(removed_edges, general_page_ranks_mimick_space_with_backflow))\n",
    "print(\"Mimick spacerank:\", perc_correct(removed_edges, general_page_ranks_mimick_space))\n",
    "print(\"Space page rank performance:\", perc_correct(removed_edges, space_rank))"
   ],
   "metadata": {
    "collapsed": false,
    "pycharm": {
     "name": "#%%\n"
    }
   }
  },
  {
   "cell_type": "code",
   "execution_count": 13,
   "outputs": [],
   "source": [
    "\n",
    "\n"
   ],
   "metadata": {
    "collapsed": false,
    "pycharm": {
     "name": "#%%\n"
    }
   }
  }
 ],
 "metadata": {
  "kernelspec": {
   "name": "pycharm-64a6ae6c",
   "language": "python",
   "display_name": "PyCharm (node_importance)"
  },
  "language_info": {
   "codemirror_mode": {
    "name": "ipython",
    "version": 2
   },
   "file_extension": ".py",
   "mimetype": "text/x-python",
   "name": "python",
   "nbconvert_exporter": "python",
   "pygments_lexer": "ipython2",
   "version": "2.7.6"
  }
 },
 "nbformat": 4,
 "nbformat_minor": 0
}