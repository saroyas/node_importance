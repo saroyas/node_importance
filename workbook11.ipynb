{
 "cells": [
  {
   "cell_type": "code",
   "execution_count": 1,
   "metadata": {
    "collapsed": true,
    "pycharm": {
     "is_executing": false
    }
   },
   "outputs": [
    {
     "name": "stdout",
     "text": [
      "hello\n"
     ],
     "output_type": "stream"
    }
   ],
   "source": [
    "import networkx as nx\n",
    "from operator import add, sub\n",
    "import numpy as np\n",
    "import matplotlib.pyplot as plt\n",
    "from def_space_spring import *\n",
    "import random\n",
    "import copy\n",
    "import python.tools as tl\n",
    "print(\"hello\")"
   ]
  },
  {
   "cell_type": "code",
   "execution_count": 2,
   "outputs": [
    {
     "data": {
      "text/plain": "<Figure size 432x288 with 1 Axes>",
      "image/png": "[encoded data removed]"
     },
     "metadata": {},
     "output_type": "display_data"
    }
   ],
   "source": [
    "DG = nx.DiGraph()\n",
    "DG.add_weighted_edges_from([(0, 2, 1), (1, 2, 1), (1, 3, 2), (3, 4, 1)])\n",
    "nx.draw(DG, with_labels=True)"
   ],
   "metadata": {
    "collapsed": false,
    "pycharm": {
     "name": "#%%\n",
     "is_executing": false
    }
   }
  },
  {
   "cell_type": "code",
   "execution_count": 3,
   "outputs": [
    {
     "name": "stdout",
     "text": [
      "(0, 2)\nweight: 1\n(1, 2)\nweight: 1\n(1, 3)\nweight: 2\n(3, 4)\nweight: 1\n"
     ],
     "output_type": "stream"
    }
   ],
   "source": [
    "backflow_const = 0.2\n",
    "DG_backflow = DG.copy()\n",
    "for edge in DG.edges():\n",
    "    print(edge)\n",
    "    print(\"weight:\", DG[edge[0]][edge[1]]['weight'])\n",
    "    backflow = backflow_const * DG[edge[0]][edge[1]]['weight']\n",
    "    DG_backflow.add_edge(edge[1], edge[0], weight =backflow)"
   ],
   "metadata": {
    "collapsed": false,
    "pycharm": {
     "name": "#%%\n",
     "is_executing": false
    }
   }
  },
  {
   "cell_type": "code",
   "execution_count": 8,
   "outputs": [
    {
     "name": "stdout",
     "text": [
      "(0, 2)\nweight: 1\n(2, 0)\nweight: 0.2\n(2, 1)\nweight: 0.2\n(1, 2)\nweight: 1\n(1, 3)\nweight: 2\n(3, 4)\nweight: 1\n(3, 1)\nweight: 0.4\n(4, 3)\nweight: 0.2\n"
     ],
     "output_type": "stream"
    }
   ],
   "source": [
    "for edge in DG_backflow.edges():\n",
    "    print(edge)\n",
    "    print(\"weight:\", DG_backflow[edge[0]][edge[1]]['weight'])"
   ],
   "metadata": {
    "collapsed": false,
    "pycharm": {
     "name": "#%%\n",
     "is_executing": false
    }
   }
  },
  {
   "cell_type": "code",
   "execution_count": null,
   "outputs": [],
   "source": [
    "\n"
   ],
   "metadata": {
    "collapsed": false,
    "pycharm": {
     "name": "#%%\n"
    }
   }
  }
 ],
 "metadata": {
  "kernelspec": {
   "name": "pycharm-f76e0c06",
   "language": "python",
   "display_name": "PyCharm (node_importance)"
  },
  "language_info": {
   "codemirror_mode": {
    "name": "ipython",
    "version": 2
   },
   "file_extension": ".py",
   "mimetype": "text/x-python",
   "name": "python",
   "nbconvert_exporter": "python",
   "pygments_lexer": "ipython2",
   "version": "2.7.6"
  },
  "pycharm": {
   "stem_cell": {
    "cell_type": "raw",
    "source": [],
    "metadata": {
     "collapsed": false
    }
   }
  }
 },
 "nbformat": 4,
 "nbformat_minor": 0
}