{
 "cells": [
  {
   "cell_type": "code",
   "execution_count": 1,
   "metadata": {
    "collapsed": true
   },
   "outputs": [],
   "source": [
    "import networkx as nx\n",
    "from operator import add, sub\n",
    "import numpy as np\n",
    "import matplotlib.pyplot as plt\n",
    "from def_space_spring import *\n",
    "import random\n",
    "import copy\n",
    "import python.tools as tl"
   ]
  },
  {
   "cell_type": "code",
   "execution_count": 2,
   "outputs": [],
   "source": [
    "DG = nx.fast_gnp_random_graph(100, 0.3, directed=True)\n",
    "for edge in DG.edges():\n",
    "    DG[edge[0]][edge[1]]['weight'] = random.randint(0,10)"
   ],
   "metadata": {
    "collapsed": false,
    "pycharm": {
     "name": "#%%\n"
    }
   }
  },
  {
   "cell_type": "code",
   "execution_count": 3,
   "outputs": [
    {
     "name": "stdout",
     "output_type": "stream",
     "text": [
      "Currently finished iteration  100\n",
      "Change in this iteration -50.66565451788193\n",
      "Currently finished iteration  200\n",
      "Change in this iteration -12.9319130012897\n",
      "Currently finished iteration  300\n",
      "Change in this iteration -3.300744369421494\n",
      "Currently finished iteration  400\n",
      "Change in this iteration -0.8424827317633401\n",
      "Currently finished iteration  500\n",
      "Change in this iteration -0.21503548105621917\n",
      "Currently finished iteration  600\n",
      "Change in this iteration -0.05488570432328288\n",
      "Currently finished iteration  700\n",
      "Change in this iteration -0.014009039457903327\n",
      "Currently finished iteration  800\n",
      "Change in this iteration -0.003575670366956274\n",
      "Currently finished iteration  900\n",
      "Change in this iteration -0.0009126549044822241\n",
      "Currently finished iteration  1000\n",
      "Change in this iteration -0.00023294624241998463\n",
      "stopped at iteration: 1001\n"
     ]
    }
   ],
   "source": [
    "new_ranking = get_space_ranks(DG)"
   ],
   "metadata": {
    "collapsed": false,
    "pycharm": {
     "name": "#%%\n"
    }
   }
  },
  {
   "cell_type": "code",
   "execution_count": 4,
   "outputs": [
    {
     "name": "stdout",
     "output_type": "stream",
     "text": [
      "Currently finished iteration  100\n",
      "Change in this iteration 0.34861860442608267\n",
      "Currently finished iteration  200\n",
      "Change in this iteration 0.08605384911786121\n",
      "Currently finished iteration  300\n",
      "Change in this iteration 0.021241737686921523\n",
      "Currently finished iteration  400\n",
      "Change in this iteration 0.005243361274195155\n",
      "Currently finished iteration  500\n",
      "Change in this iteration 0.0012942838225819125\n",
      "Currently finished iteration  600\n",
      "Change in this iteration 0.00031948411063051005\n",
      "Currently finished iteration  700\n",
      "Change in this iteration 7.88622210715316e-05\n",
      "Currently finished iteration  800\n",
      "Change in this iteration 1.9466539039871e-05\n",
      "Currently finished iteration  900\n",
      "Change in this iteration 4.805166999233973e-06\n",
      "Currently finished iteration  1000\n",
      "Change in this iteration 1.1861189006048822e-06\n",
      "stopped at iteration: 1001\n"
     ]
    }
   ],
   "source": [
    "old_ranking = get_space_ranks_dict_old(DG)"
   ],
   "metadata": {
    "collapsed": false,
    "pycharm": {
     "name": "#%%\n"
    }
   }
  },
  {
   "cell_type": "code",
   "execution_count": 5,
   "outputs": [
    {
     "name": "stdout",
     "output_type": "stream",
     "text": [
      "new ranking  1.1045004429076712\n",
      "old ranking  1.1045008135446148\n",
      "new ranking  1.5522536649709988\n",
      "old ranking  1.5522541845224753\n",
      "new ranking  1.5204732758014199\n",
      "old ranking  1.5204737854495\n",
      "new ranking  0.8555409029504903\n",
      "old ranking  0.8555411894842658\n",
      "new ranking  0.882404997697869\n",
      "old ranking  0.8824052931141807\n",
      "new ranking  0.7788169057620472\n",
      "old ranking  0.7788171668317702\n",
      "new ranking  1.2476398750047397\n",
      "old ranking  1.24764029258867\n",
      "new ranking  1.3349112789442987\n",
      "old ranking  1.3349117258755872\n",
      "new ranking  0.8755882631865776\n",
      "old ranking  0.8755885539537525\n",
      "new ranking  0.8596912851487478\n",
      "old ranking  0.8596915712008377\n"
     ]
    }
   ],
   "source": [
    "for i in range(10):\n",
    "    print(\"new ranking \", new_ranking[i])\n",
    "    print(\"old ranking \", old_ranking[i])\n"
   ],
   "metadata": {
    "collapsed": false,
    "pycharm": {
     "name": "#%%\n"
    }
   }
  },
  {
   "cell_type": "code",
   "execution_count": null,
   "outputs": [],
   "source": [
    "def pers_page_rank(graph, self_loop_weight = 1, alpha = 1,\n",
    "                   with_rounding = False, min_iter = 1000,\n",
    "                   print_rate = 100, max_iter = 10000,\n",
    "                   cut_off_change = 0.000001):\n",
    "    fspace = {}\n",
    "    for node in graph.nodes():\n",
    "        fspace[node] = 1/(graph.number_of_nodes())\n",
    "\n",
    "    norm_const = {}\n",
    "    for node in graph.nodes():\n",
    "        node_out_weight = graph.out_degree(node, weight = \"weight\")\n",
    "        norm_const[node] = 1/(node_out_weight + self_loop_weight)\n",
    "\n",
    "    i = 0\n",
    "    while True:\n",
    "        i = i+1\n",
    "        change = 0\n",
    "        for node in graph.nodes():\n",
    "            sum_normed_pred_fspace = 0\n",
    "            for pred in graph.predecessors(node):\n",
    "                sum_normed_pred_fspace = sum_normed_pred_fspace + norm_const[pred]*fspace[pred]*graph.get_edge_data(pred, node)[\"weight\"]\n",
    "\n",
    "            new_fspace_node = alpha*(sum_normed_pred_fspace) + (1-alpha)/(graph.number_of_nodes())\n",
    "            change = change + fspace[node] - new_fspace_node\n",
    "            fspace[node] = new_fspace_node\n",
    "\n",
    "        if i%print_rate == 0:\n",
    "            print(\"Currently finished iteration \", i)\n",
    "            print(\"Change in this iteration\", change)\n",
    "\n",
    "        if (i>100) or (i>min_iter and abs(change) < cut_off_change):\n",
    "            print(\"stopped at iteration:\", i)\n",
    "            break\n",
    "\n",
    "    return fspace\n"
   ],
   "metadata": {
    "collapsed": false,
    "pycharm": {
     "name": "#%%\n"
    }
   }
  }
 ],
 "metadata": {
  "kernelspec": {
   "display_name": "Python 3",
   "language": "python",
   "name": "python3"
  },
  "language_info": {
   "codemirror_mode": {
    "name": "ipython",
    "version": 2
   },
   "file_extension": ".py",
   "mimetype": "text/x-python",
   "name": "python",
   "nbconvert_exporter": "python",
   "pygments_lexer": "ipython2",
   "version": "2.7.6"
  }
 },
 "nbformat": 4,
 "nbformat_minor": 0
}