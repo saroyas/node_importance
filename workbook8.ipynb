{
 "cells": [
  {
   "cell_type": "code",
   "execution_count": 4,
   "metadata": {
    "collapsed": true
   },
   "outputs": [],
   "source": [
    "import networkx as nx\n",
    "from operator import add, sub\n",
    "import numpy as np\n",
    "import matplotlib.pyplot as plt\n",
    "from python.SpringRank import SpringRank\n",
    "import python.tools as tl\n",
    "import copy\n",
    "import random"
   ]
  },
  {
   "cell_type": "code",
   "execution_count": 5,
   "outputs": [
    {
     "data": {
      "text/plain": "<Figure size 432x288 with 1 Axes>",
      "image/png": "[encoded data removed]"
     },
     "metadata": {},
     "output_type": "display_data"
    }
   ],
   "source": [
    "DG = nx.DiGraph()\n",
    "DG.add_weighted_edges_from([(0, 2, 1), (1, 2, 1), (1, 3, 2), (3, 4, 1)])\n",
    "nx.draw(DG, with_labels=True)\n"
   ],
   "metadata": {
    "collapsed": false,
    "pycharm": {
     "name": "#%%\n"
    }
   }
  },
  {
   "cell_type": "code",
   "execution_count": 13,
   "outputs": [],
   "source": [
    "def get_space_ranks(graph, self_edge_weight = 1, with_rounding = False, min_iter = 1000, print_rate = 100, max_iter = 10000):\n",
    "    #intialise dictionary\n",
    "    # this creates potential issues - are the orders the same in both results???:\n",
    "    node_page = {}\n",
    "    for node in list(graph.nodes()):\n",
    "        node_page[node] = {}\n",
    "\n",
    "    #calculating what each nodes page will look like\n",
    "    i = 0\n",
    "    while True:\n",
    "        i = i+1\n",
    "        change = 0\n",
    "        for node in list(graph.nodes()):\n",
    "            #The sum on the weights coming in:\n",
    "            norm_const = 1/(graph.in_degree(node, weight='weight')+self_edge_weight)\n",
    "            #setting up the new dictionary\n",
    "            new_page_draft = {}\n",
    "            new_page_draft[node] = norm_const\n",
    "\n",
    "            #for each superior node - node that is predecessor\n",
    "            for superior in list(graph.predecessors(node)):\n",
    "                #get the weight of the superiors influence\n",
    "                edge_weight = graph.get_edge_data(superior, node)[\"weight\"]\n",
    "\n",
    "                #add weight time its page(dictionary) to the current nodes dictionary\n",
    "                for entry in node_page[superior].keys():\n",
    "                    new_page_draft[entry] = new_page_draft.get(entry, 0) + edge_weight*(norm_const)*node_page[superior][entry]\n",
    "\n",
    "            node_page[node] = new_page_draft\n",
    "\n",
    "        if i%print_rate == 0:\n",
    "            print(\"Currently at iteration \", i)\n",
    "\n",
    "        if (i>max_iter): # (i>min_iter and abs(change) < 1) or (i>max_iter):\n",
    "            #print(\"stopped at iteration:\", i)\n",
    "            break\n",
    "\n",
    "    ranking = {}\n",
    "    for node in list(graph.nodes()):\n",
    "        current_node_page = node_page[node]\n",
    "        for entry in current_node_page.keys():\n",
    "            ranking[entry] = ranking.get(entry, 0) + current_node_page[entry]\n",
    "\n",
    "    return ranking, node_page"
   ],
   "metadata": {
    "collapsed": false,
    "pycharm": {
     "name": "#%%\n"
    }
   }
  },
  {
   "cell_type": "code",
   "execution_count": 14,
   "outputs": [
    {
     "name": "stdout",
     "output_type": "stream",
     "text": [
      "Currently at iteration  1\n",
      "Currently at iteration  2\n",
      "Currently at iteration  3\n",
      "Currently at iteration  4\n",
      "Currently at iteration  5\n"
     ]
    }
   ],
   "source": [
    "graph_space_ranks, node_page = get_space_ranks(DG, with_rounding = True, min_iter=1, print_rate=1, max_iter=4)"
   ],
   "metadata": {
    "collapsed": false,
    "pycharm": {
     "name": "#%%\n"
    }
   }
  },
  {
   "cell_type": "code",
   "execution_count": 15,
   "outputs": [
    {
     "data": {
      "text/plain": "{0: 1.3333333333333333,\n 2: 0.3333333333333333,\n 1: 2.3333333333333335,\n 3: 0.5,\n 4: 0.5}"
     },
     "execution_count": 15,
     "metadata": {},
     "output_type": "execute_result"
    }
   ],
   "source": [
    "graph_space_ranks\n"
   ],
   "metadata": {
    "collapsed": false,
    "pycharm": {
     "name": "#%%\n"
    }
   }
  },
  {
   "cell_type": "code",
   "execution_count": 16,
   "outputs": [
    {
     "data": {
      "text/plain": "{0: {0: 1.0},\n 2: {2: 0.3333333333333333, 0: 0.3333333333333333, 1: 0.3333333333333333},\n 1: {1: 1.0},\n 3: {3: 0.3333333333333333, 1: 0.6666666666666666},\n 4: {4: 0.5, 3: 0.16666666666666666, 1: 0.3333333333333333}}"
     },
     "execution_count": 16,
     "metadata": {},
     "output_type": "execute_result"
    }
   ],
   "source": [
    "node_page"
   ],
   "metadata": {
    "collapsed": false,
    "pycharm": {
     "name": "#%%\n"
    }
   }
  },
  {
   "cell_type": "code",
   "execution_count": 22,
   "outputs": [],
   "source": [
    "graph_page_rank_dict = nx.pagerank(DG, alpha=0.9)"
   ],
   "metadata": {
    "collapsed": false,
    "pycharm": {
     "name": "#%%\n"
    }
   }
  },
  {
   "cell_type": "code",
   "execution_count": 23,
   "outputs": [
    {
     "data": {
      "text/plain": "{0: 0.12135934890440611,\n 2: 0.2669898998765222,\n 1: 0.12135934890440611,\n 3: 0.19417462439046415,\n 4: 0.29611677792420166}"
     },
     "execution_count": 23,
     "metadata": {},
     "output_type": "execute_result"
    }
   ],
   "source": [
    "graph_page_rank_dict"
   ],
   "metadata": {
    "collapsed": false,
    "pycharm": {
     "name": "#%%\n"
    }
   }
  },
  {
   "cell_type": "code",
   "execution_count": null,
   "outputs": [],
   "source": [],
   "metadata": {
    "collapsed": false,
    "pycharm": {
     "name": "#%%\n"
    }
   }
  }
 ],
 "metadata": {
  "kernelspec": {
   "display_name": "Python 3",
   "language": "python",
   "name": "python3"
  },
  "language_info": {
   "codemirror_mode": {
    "name": "ipython",
    "version": 2
   },
   "file_extension": ".py",
   "mimetype": "text/x-python",
   "name": "python",
   "nbconvert_exporter": "python",
   "pygments_lexer": "ipython2",
   "version": "2.7.6"
  }
 },
 "nbformat": 4,
 "nbformat_minor": 0
}