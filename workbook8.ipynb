{
 "cells": [
  {
   "cell_type": "code",
   "execution_count": 1,
   "metadata": {
    "collapsed": true
   },
   "outputs": [],
   "source": [
    "import networkx as nx\n",
    "from operator import add, sub\n",
    "import numpy as np\n",
    "import matplotlib.pyplot as plt\n",
    "from python.SpringRank import SpringRank\n",
    "import python.tools as tl\n",
    "import copy\n",
    "import random\n",
    "from def_space_spring import *"
   ]
  },
  {
   "cell_type": "code",
   "execution_count": 3,
   "outputs": [
    {
     "data": {
      "text/plain": "<Figure size 432x288 with 1 Axes>",
      "image/png": "[encoded data removed]"
     },
     "metadata": {},
     "output_type": "display_data"
    }
   ],
   "source": [
    "DG = nx.DiGraph()\n",
    "DG.add_weighted_edges_from([(0, 1, 1), (1, 2, 1), (2, 3, 2), (3, 4, 1), (4, 0, 1)])\n",
    "nx.draw(DG, with_labels=True)\n"
   ],
   "metadata": {
    "collapsed": false,
    "pycharm": {
     "name": "#%%\n"
    }
   }
  },
  {
   "cell_type": "code",
   "execution_count": 4,
   "outputs": [
    {
     "name": "stdout",
     "output_type": "stream",
     "text": [
      "Currently finished iteration  1\n",
      "Change in this iteration 1.6666666666666667\n",
      "Currently finished iteration  2\n",
      "Change in this iteration 0.9583333333333339\n",
      "Currently finished iteration  3\n",
      "Change in this iteration 0.039930555555555025\n",
      "Currently finished iteration  4\n",
      "Change in this iteration 0.001663773148148362\n",
      "Currently finished iteration  5\n",
      "Change in this iteration 6.932388117297794e-05\n",
      "Currently finished iteration  6\n",
      "Change in this iteration 2.888495048813944e-06\n",
      "Currently finished iteration  7\n",
      "Change in this iteration 1.2035396024234757e-07\n",
      "Currently finished iteration  8\n",
      "Change in this iteration 5.014748172271766e-09\n",
      "Currently finished iteration  9\n",
      "Change in this iteration 2.0894808105964557e-10\n",
      "Currently finished iteration  10\n",
      "Change in this iteration 8.70647998141294e-12\n",
      "Currently finished iteration  11\n",
      "Change in this iteration 3.6282088444750116e-13\n"
     ]
    }
   ],
   "source": [
    "graph_space_ranks = get_space_ranks(DG, with_rounding = True, min_iter=1, print_rate=1, max_iter=10)"
   ],
   "metadata": {
    "collapsed": false,
    "pycharm": {
     "name": "#%%\n"
    }
   }
  },
  {
   "cell_type": "code",
   "execution_count": 12,
   "outputs": [
    {
     "data": {
      "text/plain": "{0: 1.3333333333333333,\n 2: 0.3333333333333333,\n 1: 2.3333333333333335,\n 3: 0.5,\n 4: 0.5}"
     },
     "execution_count": 12,
     "metadata": {},
     "output_type": "execute_result"
    }
   ],
   "source": [
    "def get_page_space_ranks(graph, self_loop_weight = 1, with_rounding = False,\n",
    "                        min_iter = 1000, print_rate = 100, max_iter = 10000,\n",
    "                        cut_off_change = 1):\n",
    "\n",
    "    fspace = {}\n",
    "    for node in graph.nodes():\n",
    "        fspace[node] = 1\n",
    "\n",
    "    norm_const = {}\n",
    "    for node in graph.nodes():\n",
    "        node_in_weight = graph.in_degree(node, weight = \"weight\")\n",
    "        norm_const[node] = 1/(node_in_weight + self_loop_weight)\n",
    "\n",
    "\n",
    "    #calculating what each nodes page will look like\n",
    "    i = 0\n",
    "    while True:\n",
    "        i = i+1\n",
    "        change = 0\n",
    "        for node in graph.nodes():\n",
    "            sum_normed_succ_fspace = 0\n",
    "            for successor in graph.successors(node):\n",
    "                sum_normed_succ_fspace = sum_normed_succ_fspace + norm_const[successor]*fspace[successor]*graph.get_edge_data(node, successor)[\"weight\"]\n",
    "\n",
    "            new_fspace_node = 1 + sum_normed_succ_fspace\n",
    "            change = change + fspace[node] - new_fspace_node\n",
    "            fspace[node] = new_fspace_node\n",
    "\n",
    "        if i%print_rate == 0:\n",
    "            print(\"Currently finished iteration \", i)\n",
    "            print(\"Change in this iteration\", change)\n",
    "\n",
    "        if (i>max_iter) or (i>min_iter and abs(change) < cut_off_change):\n",
    "            print(\"stopped at iteration:\", i)\n",
    "            break\n",
    "\n",
    "    return fspace"
   ],
   "metadata": {
    "collapsed": false,
    "pycharm": {
     "name": "#%%\n"
    }
   }
  },
  {
   "cell_type": "code",
   "execution_count": null,
   "outputs": [],
   "source": [],
   "metadata": {
    "collapsed": false,
    "pycharm": {
     "name": "#%%\n"
    }
   }
  }
 ],
 "metadata": {
  "kernelspec": {
   "display_name": "Python 3",
   "language": "python",
   "name": "python3"
  },
  "language_info": {
   "codemirror_mode": {
    "name": "ipython",
    "version": 2
   },
   "file_extension": ".py",
   "mimetype": "text/x-python",
   "name": "python",
   "nbconvert_exporter": "python",
   "pygments_lexer": "ipython2",
   "version": "2.7.6"
  }
 },
 "nbformat": 4,
 "nbformat_minor": 0
}