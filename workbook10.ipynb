{
 "cells": [
  {
   "cell_type": "code",
   "execution_count": 1,
   "metadata": {
    "collapsed": true
   },
   "outputs": [],
   "source": [
    "\n",
    "import networkx as nx\n",
    "from operator import add, sub\n",
    "import numpy as np\n",
    "import matplotlib.pyplot as plt\n",
    "from def_space_spring import *\n",
    "import random\n",
    "import copy\n",
    "import python.tools as tl"
   ]
  },
  {
   "cell_type": "code",
   "execution_count": 2,
   "outputs": [],
   "source": [
    "DG = nx.fast_gnp_random_graph(100, 0.3, directed=True)\n",
    "for edge in DG.edges():\n",
    "    DG[edge[0]][edge[1]]['weight'] = random.randint(0,10)"
   ],
   "metadata": {
    "collapsed": false,
    "pycharm": {
     "name": "#%%\n"
    }
   }
  },
  {
   "cell_type": "code",
   "execution_count": 3,
   "outputs": [],
   "source": [
    "def reversal_generalised_page_rank(graph, self_loop_weight = 0, alpha = 1,\n",
    "                          page_size = 0, end_normalise = False, arrow_dir_powerful = False,\n",
    "                          min_iter = 1000, print_rate = 100, max_iter = 10000,\n",
    "                          cut_off_change = 0.000001):\n",
    "    fspace = {}\n",
    "    for node in graph.nodes():\n",
    "        fspace[node] = 1/(graph.number_of_nodes())\n",
    "\n",
    "    norm_const = {}\n",
    "    for node in graph.nodes():\n",
    "        if arrow_dir_powerful == True:\n",
    "            node_dir_weight = graph.out_degree(node, weight = \"weight\")\n",
    "        else:\n",
    "            node_dir_weight = graph.in_degree(node, weight = \"weight\")\n",
    "\n",
    "        try:\n",
    "            norm_const[node] = 1/(node_dir_weight + self_loop_weight)\n",
    "        except:\n",
    "            norm_const[node] = 0\n",
    "\n",
    "    i = 0\n",
    "    while True:\n",
    "        i = i+1\n",
    "        change = 0\n",
    "        for node in graph.nodes():\n",
    "            sum_normed_follower_fspace = 0\n",
    "            if arrow_dir_powerful == True:\n",
    "                for pred in graph.predecessors(node):\n",
    "                    sum_normed_follower_fspace = sum_normed_follower_fspace + norm_const[pred]*fspace[pred]*graph.get_edge_data(pred, node)[\"weight\"]\n",
    "            else:\n",
    "                for succ in graph.successors(node):\n",
    "                    sum_normed_follower_fspace = sum_normed_follower_fspace + norm_const[succ]*fspace[succ]*graph.get_edge_data(node, succ)[\"weight\"]\n",
    "\n",
    "            new_fspace_node = page_size + alpha*(sum_normed_follower_fspace) + (1-alpha)/(graph.number_of_nodes())\n",
    "            change = change + fspace[node] - new_fspace_node\n",
    "            fspace[node] = new_fspace_node\n",
    "\n",
    "        if i%print_rate == 0:\n",
    "            print(\"Currently finished iteration \", i)\n",
    "            print(\"Change in this iteration\", change)\n",
    "\n",
    "        if (i>max_iter) or (i>min_iter and abs(change) < cut_off_change):\n",
    "            print(\"stopped at iteration:\", i)\n",
    "            break\n",
    "\n",
    "    if end_normalise == True:\n",
    "        space_ranking = {}\n",
    "        for node in graph.nodes():\n",
    "            space_ranking[node] = self_loop_weight * norm_const[node] * fspace[node]\n",
    "\n",
    "        return space_ranking\n",
    "    else:\n",
    "        return fspace\n"
   ],
   "metadata": {
    "collapsed": false,
    "pycharm": {
     "name": "#%%\n"
    }
   }
  },
  {
   "cell_type": "code",
   "execution_count": 12,
   "outputs": [
    {
     "name": "stdout",
     "output_type": "stream",
     "text": [
      "Currently finished iteration  100\n",
      "Change in this iteration -51.82406682233686\n",
      "Currently finished iteration  200\n",
      "Change in this iteration -13.50807485022105\n",
      "Currently finished iteration  300\n",
      "Change in this iteration -3.5209140723112284\n",
      "Currently finished iteration  400\n",
      "Change in this iteration -0.9177352096472475\n",
      "Currently finished iteration  500\n",
      "Change in this iteration -0.23921001698033706\n",
      "Currently finished iteration  600\n",
      "Change in this iteration -0.06235069944187899\n",
      "Currently finished iteration  700\n",
      "Change in this iteration -0.01625186842110793\n",
      "Currently finished iteration  800\n",
      "Change in this iteration -0.004236090846262641\n",
      "Currently finished iteration  900\n",
      "Change in this iteration -0.001104147854562143\n",
      "Currently finished iteration  1000\n",
      "Change in this iteration -0.00028779894745412093\n",
      "stopped at iteration: 1001\n"
     ]
    }
   ],
   "source": [
    "general_page_rank_version = reversal_generalised_page_rank(DG, alpha=1, self_loop_weight=1, page_size = 1, end_normalise = True, arrow_dir_powerful=False, print_rate=100, min_iter=1000, max_iter=1000)"
   ],
   "metadata": {
    "collapsed": false,
    "pycharm": {
     "name": "#%%\n"
    }
   }
  },
  {
   "cell_type": "code",
   "execution_count": 13,
   "outputs": [],
   "source": [
    "page_rank_version = nx.pagerank(DG, alpha = 0.85)"
   ],
   "metadata": {
    "collapsed": false,
    "pycharm": {
     "name": "#%%\n"
    }
   }
  },
  {
   "cell_type": "code",
   "execution_count": 14,
   "outputs": [
    {
     "name": "stdout",
     "output_type": "stream",
     "text": [
      "Currently finished iteration  100\n",
      "Change in this iteration -51.48212457459367\n",
      "Currently finished iteration  200\n",
      "Change in this iteration -13.418946733494408\n",
      "Currently finished iteration  300\n",
      "Change in this iteration -3.4976826019571945\n",
      "Currently finished iteration  400\n",
      "Change in this iteration -0.9116798678013538\n",
      "Currently finished iteration  500\n",
      "Change in this iteration -0.23763167672564123\n",
      "Currently finished iteration  600\n",
      "Change in this iteration -0.06193930103992784\n",
      "Currently finished iteration  700\n",
      "Change in this iteration -0.016144636381369537\n",
      "Currently finished iteration  800\n",
      "Change in this iteration -0.00420814054180596\n",
      "Currently finished iteration  900\n",
      "Change in this iteration -0.0010968625369969232\n",
      "Currently finished iteration  1000\n",
      "Change in this iteration -0.00028590001042516633\n",
      "stopped at iteration: 1001\n"
     ]
    }
   ],
   "source": [
    "original_version = get_space_ranks(DG, print_rate=100, min_iter=1000, max_iter = 1000)"
   ],
   "metadata": {
    "collapsed": false,
    "pycharm": {
     "name": "#%%\n"
    }
   }
  },
  {
   "cell_type": "code",
   "execution_count": 15,
   "outputs": [
    {
     "name": "stdout",
     "output_type": "stream",
     "text": [
      "page rank :  0.01045814507601812\n",
      "generalised page rank :  0.6896168956904996\n",
      "original rank :  0.6896169022137346\n",
      "page rank :  0.009332627316563275\n",
      "generalised page rank :  1.0828038100173283\n",
      "original rank :  1.0828038202882095\n",
      "page rank :  0.007423161746500188\n",
      "generalised page rank :  1.4985196135490528\n",
      "original rank :  1.4985196277765314\n",
      "page rank :  0.009254181947152577\n",
      "generalised page rank :  0.9836353333242872\n",
      "original rank :  0.9836353426499389\n",
      "page rank :  0.011166485504645742\n",
      "generalised page rank :  0.781901541755732\n",
      "original rank :  0.7819015491683518\n",
      "page rank :  0.011965084163837444\n",
      "generalised page rank :  0.958874087497073\n",
      "original rank :  0.9588740966029071\n",
      "page rank :  0.008239248701887287\n",
      "generalised page rank :  1.2803123532681746\n",
      "original rank :  1.280312365405387\n",
      "page rank :  0.00938343750836612\n",
      "generalised page rank :  0.9340193493951722\n",
      "original rank :  0.9340193582493186\n",
      "page rank :  0.009269025126221898\n",
      "generalised page rank :  1.0992043933198072\n",
      "original rank :  1.0992044037414215\n",
      "page rank :  0.007579440226787121\n",
      "generalised page rank :  1.2329799096457148\n",
      "original rank :  1.2329799213123849\n"
     ]
    }
   ],
   "source": [
    "for i in range(10,20):\n",
    "    print(\"page rank : \", page_rank_version[i])\n",
    "    print(\"generalised page rank : \", general_page_rank_version[i])\n",
    "    print(\"original rank : \", original_version[i])\n"
   ],
   "metadata": {
    "collapsed": false,
    "pycharm": {
     "name": "#%%\n"
    }
   }
  },
  {
   "cell_type": "code",
   "execution_count": null,
   "outputs": [],
   "source": [],
   "metadata": {
    "collapsed": false,
    "pycharm": {
     "name": "#%%\n"
    }
   }
  }
 ],
 "metadata": {
  "kernelspec": {
   "display_name": "Python 3",
   "language": "python",
   "name": "python3"
  },
  "language_info": {
   "codemirror_mode": {
    "name": "ipython",
    "version": 2
   },
   "file_extension": ".py",
   "mimetype": "text/x-python",
   "name": "python",
   "nbconvert_exporter": "python",
   "pygments_lexer": "ipython2",
   "version": "2.7.6"
  }
 },
 "nbformat": 4,
 "nbformat_minor": 0
}